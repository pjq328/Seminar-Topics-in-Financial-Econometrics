{
 "cells": [
  {
   "cell_type": "code",
   "execution_count": 3,
   "metadata": {},
   "outputs": [],
   "source": [
    "import numpy as np\n",
    "from scipy.stats import norm"
   ]
  },
  {
   "cell_type": "code",
   "execution_count": 25,
   "metadata": {},
   "outputs": [
    {
     "name": "stdout",
     "output_type": "stream",
     "text": [
      "1.6435803025080673\n",
      "3.8242495259875975\n",
      "2.7013562108017677\n"
     ]
    }
   ],
   "source": [
    "import numpy as np\n",
    "\n",
    "rep = 1000000 #The number of replications\\\\\n",
    "z = np.random.normal(loc = 0, scale=1, size=rep) #draw standard normal variables\n",
    "z_chi = z**2 # chi square variables\n",
    "z_half = ((z>0)*z)**2 # half chi square variables\n",
    "quantile_n=np.percentile(z, 95)# calculate 95-percentiles for normal distribution\n",
    "\n",
    "quantile_chi=np.percentile(z_chi, 95)# calculate 95-percentiles for chi distribution\n",
    "\n",
    "quantile_half=np.percentile(z_half, 95) #calculate 95-percentiles for half chi distribution\n",
    "\n",
    "print(quantile_n)\n",
    "print(quantile_chi)\n",
    "print(quantile_half)\n",
    "\n"
   ]
  },
  {
   "cell_type": "code",
   "execution_count": null,
   "metadata": {},
   "outputs": [],
   "source": []
  },
  {
   "cell_type": "code",
   "execution_count": null,
   "metadata": {},
   "outputs": [],
   "source": []
  }
 ],
 "metadata": {
  "kernelspec": {
   "display_name": "Python 3",
   "language": "python",
   "name": "python3"
  },
  "language_info": {
   "codemirror_mode": {
    "name": "ipython",
    "version": 3
   },
   "file_extension": ".py",
   "mimetype": "text/x-python",
   "name": "python",
   "nbconvert_exporter": "python",
   "pygments_lexer": "ipython3",
   "version": "3.7.4"
  }
 },
 "nbformat": 4,
 "nbformat_minor": 4
}
